{
  "nbformat": 4,
  "nbformat_minor": 0,
  "metadata": {
    "colab": {
      "name": "Discussion 5",
      "provenance": [],
      "authorship_tag": "ABX9TyO00L45iHeV28RfHfFgDNAv",
      "include_colab_link": true
    },
    "kernelspec": {
      "name": "python3",
      "display_name": "Python 3"
    }
  },
  "cells": [
    {
      "cell_type": "markdown",
      "metadata": {
        "id": "view-in-github",
        "colab_type": "text"
      },
      "source": [
        "<a href=\"https://colab.research.google.com/github/suf263/python/blob/master/Discussion_5.ipynb\" target=\"_parent\"><img src=\"https://colab.research.google.com/assets/colab-badge.svg\" alt=\"Open In Colab\"/></a>"
      ]
    },
    {
      "cell_type": "code",
      "metadata": {
        "id": "F2yuDDisLxtL"
      },
      "source": [
        "\n",
        "class Cat:\n",
        "   def _init_(self, name, age):\n",
        "          self.name=name\n",
        "          self.age=age\n",
        "   def info(self):\n",
        "          print(\" i am {self.name} and i am {self.age} years old\")\n",
        "   def make_sound(self):\n",
        "          print(\" meow\")\n",
        "class Dog:\n",
        "   def _init_(self, name, age):\n",
        "          self.name=name\n",
        "          self.age=age\n",
        "   def info(self):\n",
        "          print(\" i am {self.name} and i am {self.age} years old \")\n",
        "   def make_sound(self):\n",
        "          print(\" bark\")\n",
        "\n",
        "Catx= Cat(\"joggy\", 5)\n",
        "Dogy = Dog(\"jaggy\", 3)\n",
        "for animal in (catx, dogy):\n",
        "    animal.info()  \n",
        "    animal.make_sound()"
      ],
      "execution_count": null,
      "outputs": []
    },
    {
      "cell_type": "code",
      "metadata": {
        "colab": {
          "base_uri": "https://localhost:8080/"
        },
        "id": "pnbE1Xz-KX54",
        "outputId": "95beee32-c2da-4756-de76-15033f0afceb"
      },
      "source": [
        "from math import pi\n",
        "\n",
        "class Shape:\n",
        "    def __init__(self, name):\n",
        "        self.name = name\n",
        "\n",
        "    def area(self):\n",
        "        pass\n",
        "\n",
        "    def fact(self):\n",
        "        return \"I am a two-dimensional shape.\"\n",
        "\n",
        "    def __str__(self):\n",
        "        return self.name\n",
        "\n",
        "\n",
        "class Square(Shape):\n",
        "    def __init__(self, length):\n",
        "        super().__init__(\"Square\")\n",
        "        self.length = length\n",
        "\n",
        "    def area(self):\n",
        "        return self.length**2\n",
        "    def fact(self):\n",
        "        return \"Squares have each angle equal to 90 degrees.\"\n",
        "\n",
        "\n",
        "class Circle(Shape):\n",
        "    def __init__(self, radius):\n",
        "        super().__init__(\"Circle\")\n",
        "        self.radius = radius\n",
        "\n",
        "    def area(self):\n",
        "        return pi*self.radius**2\n",
        "\n",
        "\n",
        "x = Square(5)\n",
        "y = Circle(6)\n",
        "print(x)\n",
        "print(y)\n",
        "print(x.area())\n",
        "print(y.area())\n",
        "print(x.fact())\n",
        "print(y.fact())\n"
      ],
      "execution_count": 2,
      "outputs": [
        {
          "output_type": "stream",
          "text": [
            "Square\n",
            "Circle\n",
            "25\n",
            "113.09733552923255\n",
            "Squares have each angle equal to 90 degrees.\n",
            "I am a two-dimensional shape.\n"
          ],
          "name": "stdout"
        }
      ]
    }
  ]
}