{
  "nbformat": 4,
  "nbformat_minor": 0,
  "metadata": {
    "colab": {
      "name": "DISCUSSION 7",
      "provenance": [],
      "authorship_tag": "ABX9TyOyfkjU4ZXi7J5zyor2wpH7",
      "include_colab_link": true
    },
    "kernelspec": {
      "name": "python3",
      "display_name": "Python 3"
    }
  },
  "cells": [
    {
      "cell_type": "markdown",
      "metadata": {
        "id": "view-in-github",
        "colab_type": "text"
      },
      "source": [
        "<a href=\"https://colab.research.google.com/github/suf263/python/blob/master/DISCUSSION_7.ipynb\" target=\"_parent\"><img src=\"https://colab.research.google.com/assets/colab-badge.svg\" alt=\"Open In Colab\"/></a>"
      ]
    },
    {
      "cell_type": "code",
      "metadata": {
        "id": "tr4i96H-4o-u"
      },
      "source": [
        " \n",
        "f1 = open(\"text.dat\",\"w\")\n",
        "f1.write(\"Hello good morning.\")\n",
        "f1.write(\"\\n It's rainy today.\")\n",
        "f1.write(\"\\n ok bye \")\n",
        "f1.close()\n",
        "f1 = open(\"text.dat\",\"r\")\n",
        "count=0\n",
        "for line in f1:\n",
        "   count+=1\n",
        "print(\"number of lines = \",count)"
      ],
      "execution_count": null,
      "outputs": []
    },
    {
      "cell_type": "code",
      "metadata": {
        "id": "ScSZnzgNVB1I"
      },
      "source": [
        " \n",
        "f = open(\"txt.dat\",\"w\")\n",
        "word = \"apple orange grape mango lemon apple orange  mango mango\"\n",
        "f.write(word)\n",
        "f = open(\"txt.dat\",\"r\")\n",
        "c = f.read()\n",
        "c = c.split(\" \")\n",
        "word1 =[]\n",
        "for i in c:\n",
        "  if i not in word1:\n",
        "     word1.append(i)\n",
        "for i in range(0,len(word1)):\n",
        "   print(\" frequency of the \",word1[i],\" is \",c.count(word1[i]))"
      ],
      "execution_count": null,
      "outputs": []
    },
    {
      "cell_type": "code",
      "metadata": {
        "colab": {
          "base_uri": "https://localhost:8080/"
        },
        "id": "x9WHMUPfVyLP",
        "outputId": "816af15f-0729-43f3-b8ed-67b8d75a6e94"
      },
      "source": [
        " \n",
        " \n",
        "f = open(\"text.dat\",\"w\")\n",
        "s = \"Its a bright day\"\n",
        "s1 = \" Good morning \"\n",
        "s2 = \" sun is shining now\"\n",
        "f.write(s)\n",
        "f.write(s1)\n",
        "f = open(\"text.dat\",\"r\")\n",
        "x1 = f.read()\n",
        "x = x1.replace(s,s2)\n",
        "print(x)\n",
        "f = open(\"text.dat\",\"w\")\n",
        "f.write(x)"
      ],
      "execution_count": null,
      "outputs": [
        {
          "output_type": "stream",
          "text": [
            " sun is shining now Good morning \n"
          ],
          "name": "stdout"
        },
        {
          "output_type": "execute_result",
          "data": {
            "text/plain": [
              "33"
            ]
          },
          "metadata": {
            "tags": []
          },
          "execution_count": 11
        }
      ]
    },
    {
      "cell_type": "code",
      "metadata": {
        "id": "-55SEDCDYbOw"
      },
      "source": [
        " \n",
        " \n",
        "f1= open(\"text.dat\",\"w\")\n",
        "f1.write(\"It's good \")\n",
        "f1.write(\"\\n to \")\n",
        "f1 = open(\"text.dat\",\"r\")\n",
        "a = f1.read()\n",
        "f2= open(\"text2.dat\",\"w\")\n",
        "f2.write(\" learn\")\n",
        "f2.write(\"\\n python\")\n",
        "f2 = open(\"text2.dat\",\"r\")\n",
        "b = f2.read()\n",
        "text= a + b\n",
        "fn = open(\"new.dat\",\"w\")\n",
        "fn.write(text)\n",
        "fn = open(\"new.dat\",\"r\")\n",
        "print(fn.read())"
      ],
      "execution_count": null,
      "outputs": []
    }
  ]
}