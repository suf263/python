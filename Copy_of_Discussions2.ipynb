{
  "nbformat": 4,
  "nbformat_minor": 0,
  "metadata": {
    "colab": {
      "name": "Copy of Discussions2.ipynb",
      "provenance": [],
      "authorship_tag": "ABX9TyN2dFWnxPFiQUqcOEaTAGa1",
      "include_colab_link": true
    },
    "kernelspec": {
      "name": "python3",
      "display_name": "Python 3"
    }
  },
  "cells": [
    {
      "cell_type": "markdown",
      "metadata": {
        "id": "view-in-github",
        "colab_type": "text"
      },
      "source": [
        "<a href=\"https://colab.research.google.com/github/suf263/python/blob/master/Copy_of_Discussions2.ipynb\" target=\"_parent\"><img src=\"https://colab.research.google.com/assets/colab-badge.svg\" alt=\"Open In Colab\"/></a>"
      ]
    },
    {
      "cell_type": "code",
      "metadata": {
        "id": "ohTjsSV0WNHj"
      },
      "source": [
        "class Student:\n",
        "    def __init__(self, name, classno, rollno):\n",
        "        self.name = name\n",
        "        self.classno = classno\n",
        "        self.rollno = rollno\n",
        "    \n",
        "    def print(self):\n",
        "        print(\"Name:\", self.name)\n",
        "        print(\"class:\", self.classno)\n",
        "        print(\"rollno:\", self.rollno)\n",
        "\n",
        "\n",
        "class Sports(Student): \n",
        "    \n",
        "    def __init__(self, sportmark):\n",
        "        super().__init__(\"AA\", 6, 2)\n",
        "        self.sportmark=sportmark\n",
        "\n",
        "    def display(self):\n",
        "        print(\"Sports mark:\", self.sportmark)\n",
        "\n",
        "class Statement(Sports):  \n",
        "    \n",
        "    def __init__(self, totalmark):\n",
        "        super().__init__(50)\n",
        "        self.totalmark = totalmark\n",
        "\n",
        "    def total(self):\n",
        "        print(\"Name:\", self.name)\n",
        "        print(\"class:\", self.classno)\n",
        "        print(\"rollno:\", self.rollno)\n",
        "        print(\"Sports mark : \",self.sportmark)\n",
        "        print(\"Total mark : \",self.totalmark+self.sportmark)\n",
        "\n",
        "\n",
        "\n",
        "\n",
        "\n",
        "\n",
        "\n",
        "\n"
      ],
      "execution_count": null,
      "outputs": []
    }
  ]
}