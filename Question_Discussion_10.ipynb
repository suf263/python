{
  "nbformat": 4,
  "nbformat_minor": 0,
  "metadata": {
    "colab": {
      "name": "Question Discussion 10",
      "provenance": [],
      "authorship_tag": "ABX9TyNVa1yrKfSXWLccgoCZoKf+",
      "include_colab_link": true
    },
    "kernelspec": {
      "name": "python3",
      "display_name": "Python 3"
    }
  },
  "cells": [
    {
      "cell_type": "markdown",
      "metadata": {
        "id": "view-in-github",
        "colab_type": "text"
      },
      "source": [
        "<a href=\"https://colab.research.google.com/github/suf263/python/blob/master/Question_Discussion_10.ipynb\" target=\"_parent\"><img src=\"https://colab.research.google.com/assets/colab-badge.svg\" alt=\"Open In Colab\"/></a>"
      ]
    },
    {
      "cell_type": "code",
      "metadata": {
        "id": "nPeQwsYsVHLR",
        "colab": {
          "base_uri": "https://localhost:8080/"
        },
        "outputId": "ef776efb-a568-4337-c6d1-19e5585f0001"
      },
      "source": [
        "#1\r\n",
        "num = int(input(\"Enter a number: \"))\r\n",
        "sum = 0\r\n",
        "\r\n",
        "\r\n",
        "temp = num\r\n",
        "while temp > 0:\r\n",
        "   digit = temp % 10\r\n",
        "   sum += digit ** 3\r\n",
        "   temp //= 10\r\n",
        "\r\n",
        "if num == sum:\r\n",
        "   print(num,\"is an Armstrong number\")\r\n",
        "else:\r\n",
        "   print(num,\"is not an Armstrong number\")\r\n"
      ],
      "execution_count": 38,
      "outputs": [
        {
          "output_type": "stream",
          "text": [
            "Enter a number: 243\n",
            "243 is not an Armstrong number\n"
          ],
          "name": "stdout"
        }
      ]
    },
    {
      "cell_type": "code",
      "metadata": {
        "id": "aHCcci8XDRuW"
      },
      "source": [
        "#2\n",
        "def checkValidity(a, b, c):  \n",
        "    if (a + b <= c) or (a + c <= b) or (b + c <= a) : \n",
        "        return False\n",
        "    else: \n",
        "        return True       \n",
        "  \n",
        "a = int(input(\"Value1:\"))\n",
        "b = int(input(\"value2:\"))\n",
        "c = int(input(\"value3:\"))\n",
        "if checkValidity(a, b, c): \n",
        "    print(\"YES\")  \n",
        "else: \n",
        "    print(\"NO\")"
      ],
      "execution_count": null,
      "outputs": []
    },
    {
      "cell_type": "code",
      "metadata": {
        "colab": {
          "base_uri": "https://localhost:8080/"
        },
        "id": "pRpw8A-CIPHB",
        "outputId": "76645592-364b-40b4-fb27-c11660d6587a"
      },
      "source": [
        "#3\n",
        "l=int(input(\"lower value:\"))\n",
        "u=int(input(\"upper value:\"))\n",
        "c=0\n",
        "for i in range(l,u + 1):\n",
        "   if  i> 1:\n",
        "       for j in range(2,i):\n",
        "           if (i%j) == 0:\n",
        "               break\n",
        "       else:\n",
        "           c+=1\n",
        "print(c)"
      ],
      "execution_count": null,
      "outputs": [
        {
          "output_type": "stream",
          "text": [
            "lower value:2\n",
            "upper value:15\n",
            "6\n"
          ],
          "name": "stdout"
        }
      ]
    },
    {
      "cell_type": "code",
      "metadata": {
        "id": "DrGron0C-bH0"
      },
      "source": [
        "#4\r\n",
        "celsius = float(input(\"Enter a number:\"))\r\n",
        "fahrenheit = (celsius*9/5)+32\r\n",
        "print(\"Temperature in fahrenheit is:\",fahrenheit)"
      ],
      "execution_count": null,
      "outputs": []
    },
    {
      "cell_type": "code",
      "metadata": {
        "id": "XMP_F5j5_fuc"
      },
      "source": [
        "#5\r\n",
        "base = float(input(\"Enter a base value:\"))\r\n",
        "height = float(input(\"Enter height value:\"))\r\n",
        "area =1/2*base*height\r\n",
        "print(\"Area of the triangle:\",area)"
      ],
      "execution_count": null,
      "outputs": []
    }
  ]
}