{
  "nbformat": 4,
  "nbformat_minor": 0,
  "metadata": {
    "colab": {
      "name": "Untitled15.ipynb",
      "provenance": [],
      "authorship_tag": "ABX9TyPEcdqPOBoktWZ7GMsGQkkt",
      "include_colab_link": true
    },
    "kernelspec": {
      "name": "python3",
      "display_name": "Python 3"
    }
  },
  "cells": [
    {
      "cell_type": "markdown",
      "metadata": {
        "id": "view-in-github",
        "colab_type": "text"
      },
      "source": [
        "<a href=\"https://colab.research.google.com/github/suf263/python/blob/master/Untitled15.ipynb\" target=\"_parent\"><img src=\"https://colab.research.google.com/assets/colab-badge.svg\" alt=\"Open In Colab\"/></a>"
      ]
    },
    {
      "cell_type": "code",
      "metadata": {
        "colab": {
          "base_uri": "https://localhost:8080/"
        },
        "id": "RfL-1U1OSDt6",
        "outputId": "30da84df-7143-4055-aa57-83dba7c97156"
      },
      "source": [
        "class Member:\n",
        "  def __init__(self,name,age,phno,address,salary):\n",
        "     \n",
        "     self.name = name\n",
        "     self.age = age\n",
        "     self.phno = phno\n",
        "     self.address = address\n",
        "     self.salary = salary\n",
        "     print(self.name,self.age ,self.phno,self.address,self.salary)\n",
        "\n",
        "  def printsalary(self):\n",
        "    print(\"salary:\",self.salary)\n",
        "\n",
        "class Employee(Member):\n",
        "  def __init__(self,specialization):\n",
        "        super().__init__(\"Mack\",34,6789543,\"SRA\",12300)\n",
        "        self.specialization = specialization\n",
        "        print(self.specialization)\n",
        "\n",
        "class Manager(Member):\n",
        "   def __init__(self,department):\n",
        "        super().__init__(\"Jam\",23,6532467,\"MSR\",15000)\n",
        "        self.department = department\n",
        "        print(self.department)\n",
        "\n",
        "x =  Member(\"jon\",34,345567,\"Nagar\",10000)    \n",
        "x.printsalary()\n",
        "y = Employee(\"Specialization:MBA\")\n",
        "y.printsalary()\n",
        "Z = Manager(\"Department:Export\")\n",
        "Z.printsalary()\n"
      ],
      "execution_count": 1,
      "outputs": [
        {
          "output_type": "stream",
          "text": [
            "jon 34 345567 Nagar 10000\n",
            "salary: 10000\n",
            "Mack 34 6789543 SRA 12300\n",
            "Specialization:MBA\n",
            "salary: 12300\n",
            "Jam 23 6532467 MSR 15000\n",
            "Department:Export\n",
            "salary: 15000\n"
          ],
          "name": "stdout"
        }
      ]
    }
  ]
}