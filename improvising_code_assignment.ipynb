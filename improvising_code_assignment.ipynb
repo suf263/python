{
  "nbformat": 4,
  "nbformat_minor": 0,
  "metadata": {
    "colab": {
      "name": "improvising code assignment",
      "provenance": [],
      "authorship_tag": "ABX9TyOJfXoBEqjJPstsJZED3JkY",
      "include_colab_link": true
    },
    "kernelspec": {
      "name": "python3",
      "display_name": "Python 3"
    }
  },
  "cells": [
    {
      "cell_type": "markdown",
      "metadata": {
        "id": "view-in-github",
        "colab_type": "text"
      },
      "source": [
        "<a href=\"https://colab.research.google.com/github/suf263/python/blob/master/improvising_code_assignment.ipynb\" target=\"_parent\"><img src=\"https://colab.research.google.com/assets/colab-badge.svg\" alt=\"Open In Colab\"/></a>"
      ]
    },
    {
      "cell_type": "code",
      "metadata": {
        "id": "mGOIy-8yQdlT",
        "outputId": "cc1ad2b0-c300-45a7-e438-9d82001c700b",
        "colab": {
          "base_uri": "https://localhost:8080/",
          "height": 136
        }
      },
      "source": [
        "list = []\n",
        "num = int(input(\"Enter number of elements in list:\"))\n",
        "for i in range(1, num + 1):\n",
        "   elements = int(input(\"Enter element: \"))\n",
        "   list.append(elements)\n",
        "print(\"Largest element is:\", max(list))\n"
      ],
      "execution_count": 2,
      "outputs": [
        {
          "output_type": "stream",
          "text": [
            "Enter number of elements in list:5\n",
            "Enter element: 6\n",
            "Enter element: 9\n",
            "Enter element: 2\n",
            "Enter element: 3\n",
            "Enter element: 4\n",
            "Largest element is: 9\n"
          ],
          "name": "stdout"
        }
      ]
    },
    {
      "cell_type": "code",
      "metadata": {
        "id": "GXuDERBVQnG3",
        "outputId": "a6723938-4ec1-42ba-c81f-f845d1fd9058",
        "colab": {
          "base_uri": "https://localhost:8080/",
          "height": 51
        }
      },
      "source": [
        "list1 = [2,7,8,6,5,3,0]\n",
        "search_element = int(input(\"Enter a number to search for:\"))\n",
        "found = False\n",
        "for i in range(len(list1)):\n",
        "    if list1[i]==search_element:\n",
        "        found=True\n",
        "        print(search_element ,'was found in the list at index',i)\n",
        "        break\n",
        "if found==False:\n",
        "    print(search_element,'was not found in the list')"
      ],
      "execution_count": 3,
      "outputs": [
        {
          "output_type": "stream",
          "text": [
            "Enter a number to search for:8\n",
            "8 was found in the list at index 2\n"
          ],
          "name": "stdout"
        }
      ]
    },
    {
      "cell_type": "code",
      "metadata": {
        "id": "1FNF7zbRQy_H",
        "outputId": "07226147-530f-41c5-cfbc-c12710f8f3f6",
        "colab": {
          "base_uri": "https://localhost:8080/",
          "height": 34
        }
      },
      "source": [
        "sum=0\n",
        "list2=[11,5,17,18,23]\n",
        "for i in range(0,len(list2)):\n",
        "    sum = sum+list2[i]\n",
        "print(\"sum of all elements in list:\",sum)    "
      ],
      "execution_count": 4,
      "outputs": [
        {
          "output_type": "stream",
          "text": [
            "sum of all elements in list: 74\n"
          ],
          "name": "stdout"
        }
      ]
    },
    {
      "cell_type": "code",
      "metadata": {
        "id": "ZyAS__UwQ3My",
        "outputId": "52eed934-0040-4b43-d310-953ebaaedd1f",
        "colab": {
          "base_uri": "https://localhost:8080/",
          "height": 34
        }
      },
      "source": [
        "def Remove(duplicate):\n",
        "   removed_list=[]\n",
        "   for num in duplicate:\n",
        "     if num not in removed_list:\n",
        "            removed_list.append(num)\n",
        "   return removed_list\n",
        "duplicate = [2,4,10,20,5,2,8,8,20,4]\n",
        "print(Remove(duplicate))\n"
      ],
      "execution_count": 6,
      "outputs": [
        {
          "output_type": "stream",
          "text": [
            "[2, 4, 10, 20, 5, 8]\n"
          ],
          "name": "stdout"
        }
      ]
    },
    {
      "cell_type": "code",
      "metadata": {
        "id": "8fQfzMxzRZJu",
        "outputId": "bbe1e820-c703-4ce5-cf8f-1ec35b38f71e",
        "colab": {
          "base_uri": "https://localhost:8080/",
          "height": 51
        }
      },
      "source": [
        "def common_data(list1, list2):\n",
        "     result = False\n",
        "     for x in list1:\n",
        "         for y in list2:\n",
        "             if x == y:\n",
        "                 result = True\n",
        "                 return result\n",
        "print(common_data([1,2,3,4,5], [5,6,7,8,9]))\n",
        "print(common_data([1,2,3,4,5], [6,7,8,9]))\n",
        "\n"
      ],
      "execution_count": 8,
      "outputs": [
        {
          "output_type": "stream",
          "text": [
            "True\n",
            "None\n"
          ],
          "name": "stdout"
        }
      ]
    },
    {
      "cell_type": "code",
      "metadata": {
        "id": "b_QLfxY9Rmsx",
        "outputId": "5296b318-b5f5-4b6b-f26c-abc544bfe01b",
        "colab": {
          "base_uri": "https://localhost:8080/",
          "height": 34
        }
      },
      "source": [
        "list3 = [1,6,9,84]\n",
        "list4 = [4,7,3,2,94]\n",
        "list3.append(list4)\n",
        "print('appended list:',list3)"
      ],
      "execution_count": 10,
      "outputs": [
        {
          "output_type": "stream",
          "text": [
            "appended list: [1, 6, 9, 84, [4, 7, 3, 2, 94]]\n"
          ],
          "name": "stdout"
        }
      ]
    },
    {
      "cell_type": "code",
      "metadata": {
        "id": "6dO8GMceR1Pu",
        "outputId": "6f73d05f-5eff-4998-c087-e9ad9ef11f48",
        "colab": {
          "base_uri": "https://localhost:8080/",
          "height": 34
        }
      },
      "source": [
        "list5=[1,6,9,84]\n",
        "list6=[4,7,3,2,94]\n",
        "list5.extend(list6)\n",
        "print(\"Extended list:\",list5)"
      ],
      "execution_count": 12,
      "outputs": [
        {
          "output_type": "stream",
          "text": [
            "Extended list: [1, 6, 9, 84, 4, 7, 3, 2, 94]\n"
          ],
          "name": "stdout"
        }
      ]
    },
    {
      "cell_type": "code",
      "metadata": {
        "id": "86gefLztSAAj",
        "outputId": "a67063f6-7f2c-4c60-d24f-58ad8e8bbc61",
        "colab": {
          "base_uri": "https://localhost:8080/",
          "height": 51
        }
      },
      "source": [
        "num=int(input(\"Enter a number:\"))\n",
        "if num>1:\n",
        "    for i in range(2,num):\n",
        "        if(num%i)==0:\n",
        "            print(num,\"is not a prime number\")\n",
        "            break\n",
        "    else:\n",
        "        print(num,\"is a prime number\")\n",
        "elif num==0 or 1:\n",
        "    print(num,\"is neither a prime number or composite number\")\n",
        " \n"
      ],
      "execution_count": 13,
      "outputs": [
        {
          "output_type": "stream",
          "text": [
            "Enter a number:0\n",
            "0 is neither a prime number or composite number\n"
          ],
          "name": "stdout"
        }
      ]
    },
    {
      "cell_type": "code",
      "metadata": {
        "id": "yVz_Zd5zSK2T",
        "outputId": "90b709ce-0690-43d5-857c-243bc169bfe2",
        "colab": {
          "base_uri": "https://localhost:8080/",
          "height": 34
        }
      },
      "source": [
        "X = [[1,2,3],\n",
        "     [4 ,5,6],\n",
        "     [7 ,8,9]]\n",
        "Y = [[9,8,7],\n",
        "     [6,5,4],\n",
        "     [3,2,1]]\n",
        "\n",
        "result = [[0,0,0],\n",
        "          [0,0,0], \n",
        "          [0,0,0]]\n",
        "\n",
        "for i in range(len(X)):\n",
        "   for j in range(len(X[0])):\n",
        "       result[i][j] = X[i][j] + Y[i][j]\n",
        "print(result)\n"
      ],
      "execution_count": 14,
      "outputs": [
        {
          "output_type": "stream",
          "text": [
            "[[10, 10, 10], [10, 10, 10], [10, 10, 10]]\n"
          ],
          "name": "stdout"
        }
      ]
    },
    {
      "cell_type": "code",
      "metadata": {
        "id": "BCvtbOtYSQAp",
        "outputId": "13e2faf6-bb98-412e-ecb4-b3b76f5e035c",
        "colab": {
          "base_uri": "https://localhost:8080/",
          "height": 51
        }
      },
      "source": [
        "string = input(\"Enter string:\")\n",
        "if(string==string[::-1]):\n",
        "    print(\"The string is a palindrome\")\n",
        "else:\n",
        "    print(\"The string isn't a palindrome\")"
      ],
      "execution_count": 15,
      "outputs": [
        {
          "output_type": "stream",
          "text": [
            "Enter string:hindi\n",
            "The string isn't a palindrome\n"
          ],
          "name": "stdout"
        }
      ]
    },
    {
      "cell_type": "code",
      "metadata": {
        "id": "fTF04EXOSb3o",
        "outputId": "9dcdee2f-003b-495d-c2dc-a9f26bbb5153",
        "colab": {
          "base_uri": "https://localhost:8080/",
          "height": 204
        }
      },
      "source": [
        "num = int(input(\"Enter number:\"))\n",
        "for i in range(1,11):\n",
        "    print(num,'x',i,'=',num*i)"
      ],
      "execution_count": 17,
      "outputs": [
        {
          "output_type": "stream",
          "text": [
            "Enter number:12\n",
            "12 x 1 = 12\n",
            "12 x 2 = 24\n",
            "12 x 3 = 36\n",
            "12 x 4 = 48\n",
            "12 x 5 = 60\n",
            "12 x 6 = 72\n",
            "12 x 7 = 84\n",
            "12 x 8 = 96\n",
            "12 x 9 = 108\n",
            "12 x 10 = 120\n"
          ],
          "name": "stdout"
        }
      ]
    },
    {
      "cell_type": "code",
      "metadata": {
        "id": "grKNNLLYSb3C"
      },
      "source": [
        ""
      ],
      "execution_count": null,
      "outputs": []
    }
  ]
}