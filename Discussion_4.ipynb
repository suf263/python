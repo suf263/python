{
  "nbformat": 4,
  "nbformat_minor": 0,
  "metadata": {
    "colab": {
      "name": "Discussion 4",
      "provenance": [],
      "authorship_tag": "ABX9TyOR2fUGmI9j5vhOE/Zi2Acx",
      "include_colab_link": true
    },
    "kernelspec": {
      "name": "python3",
      "display_name": "Python 3"
    }
  },
  "cells": [
    {
      "cell_type": "markdown",
      "metadata": {
        "id": "view-in-github",
        "colab_type": "text"
      },
      "source": [
        "<a href=\"https://colab.research.google.com/github/suf263/python/blob/master/Discussion_4.ipynb\" target=\"_parent\"><img src=\"https://colab.research.google.com/assets/colab-badge.svg\" alt=\"Open In Colab\"/></a>"
      ]
    },
    {
      "cell_type": "code",
      "metadata": {
        "id": "n957xVvii8yM"
      },
      "source": [
        "#sufina shahul hameed"
      ],
      "execution_count": null,
      "outputs": []
    },
    {
      "cell_type": "code",
      "metadata": {
        "colab": {
          "base_uri": "https://localhost:8080/"
        },
        "id": "Lel9vjW7S11a",
        "outputId": "04a15e7a-6344-4401-a8a4-f19e708447db"
      },
      "source": [
        "import math\n",
        "class circle():\n",
        "    def __init__(self,radius):\n",
        "        self.radius = radius\n",
        "    def area(self):\n",
        "        return pow(self.radius,2)*math.pi\n",
        "    def perimeter(self):\n",
        "        return 2*self.radius*math.pi\n",
        "c1 = circle(int(input(\"Enter radius:\")))\n",
        "print(c1.area())\n",
        "print(c1.perimeter())"
      ],
      "execution_count": 2,
      "outputs": [
        {
          "output_type": "stream",
          "text": [
            "Enter radius:7\n",
            "153.93804002589985\n",
            "43.982297150257104\n"
          ],
          "name": "stdout"
        }
      ]
    },
    {
      "cell_type": "code",
      "metadata": {
        "colab": {
          "base_uri": "https://localhost:8080/"
        },
        "id": "XRxG0hWZTD7l",
        "outputId": "d1142092-eafc-43af-b4f0-1e933c13405e"
      },
      "source": [
        "class Rectangle():\n",
        "    def __init__(self,height,width,x1,x2,y1,y2):\n",
        "        self.height = height\n",
        "        self.width = width\n",
        "        self.x1= x1\n",
        "        self.x2= x2\n",
        "        self.y1=y1\n",
        "        self.y2=y2\n",
        "    def area(self):\n",
        "        return self.width*self.height\n",
        "    def perimeter(self):\n",
        "        return 2*(self.height+self.width)\n",
        "    def center(self):\n",
        "        return (((x1+x2)/2),((y1+y2)/2))\n",
        "w = float(input(\"Enter width:\"))\n",
        "h = float(input(\"Enter height:\"))\n",
        "\n",
        "x1 = int(input(\"Enter x1:\"))\n",
        "x2 = int(input(\"Enter x2:\"))\n",
        "y1 = int(input(\"Enter y1:\"))\n",
        "y2 = int(input(\"Enter y2:\")) \n",
        "obj = Rectangle(w,h,x1,x2,y1,y2)\n",
        "                \n",
        "\n",
        "print(\"Area of Rectangle:\",obj.area())\n",
        "print(\"Perimeter of Reactangle:\",obj.perimeter())\n",
        "print(\"Center of Rectangle:\",obj.center())                "
      ],
      "execution_count": 3,
      "outputs": [
        {
          "output_type": "stream",
          "text": [
            "Enter width:4\n",
            "Enter height:5\n",
            "Enter x1:2\n",
            "Enter x2:3\n",
            "Enter y1:3\n",
            "Enter y2:2\n",
            "Area of Rectangle: 20.0\n",
            "Perimeter of Reactangle: 18.0\n",
            "Center of Rectangle: (2.5, 2.5)\n"
          ],
          "name": "stdout"
        }
      ]
    }
  ]
}