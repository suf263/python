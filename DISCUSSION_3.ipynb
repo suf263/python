{
  "nbformat": 4,
  "nbformat_minor": 0,
  "metadata": {
    "colab": {
      "name": "DISCUSSION 3",
      "provenance": [],
      "authorship_tag": "ABX9TyPbq6oWban2rk6IS31uB8uG",
      "include_colab_link": true
    },
    "kernelspec": {
      "name": "python3",
      "display_name": "Python 3"
    }
  },
  "cells": [
    {
      "cell_type": "markdown",
      "metadata": {
        "id": "view-in-github",
        "colab_type": "text"
      },
      "source": [
        "<a href=\"https://colab.research.google.com/github/suf263/python/blob/master/DISCUSSION_3.ipynb\" target=\"_parent\"><img src=\"https://colab.research.google.com/assets/colab-badge.svg\" alt=\"Open In Colab\"/></a>"
      ]
    },
    {
      "cell_type": "code",
      "metadata": {
        "id": "RNgmHUB1kS5m"
      },
      "source": [
        "class Sum(self,intno,sum_of_digits,single_dig_sum): \n",
        "    intno.self = intno\n",
        "    sum_of_digits.self = sum_of_digits\n",
        "    single_dig_sum.self = single_dig_sum\n",
        "\n",
        "def accept_data():\n",
        "     intno = input(int(\"Enter any integer:\"))\n",
        "     print(intno)\n",
        "        \n",
        "    \n",
        "class  sum1(sum):\n",
        "      \n",
        "    def __init__(self,intno,sum_of_digits=0):\n",
        "        for i in intno:\n",
        "            sum_of_digits = sum_of_digits+i\n",
        "            print(sum_of_digits)\n",
        "            \n",
        "class sum2(sum):\n",
        "     \n",
        "    def __init__(self,sum_of_digits,single_digit_sum=0):\n",
        "    \n",
        "       for x in sum_of_digits:\n",
        "            single_dig_sum = single_dig_sum+x\n",
        "            print(single_dig_sum)\n",
        "\n",
        "               \n",
        "\n",
        "               \n"
      ],
      "execution_count": null,
      "outputs": []
    },
    {
      "cell_type": "code",
      "metadata": {
        "id": "hvRAkX16ILm7"
      },
      "source": [
        " class Polygon:\n",
        "    def _init_(self,number,name):\n",
        "        self.number = number\n",
        "        self.name=name\n",
        "        self.sides=[]\n",
        "    def inputSides(self):\n",
        "        print(self.name)\n",
        "        for i in range(0,self.number):\n",
        "            ele=float(input(\"Enter side \"+str(i+1)+\" : \"))\n",
        "            self.sides.append(ele)\n",
        "class Triangle(Polygon):\n",
        "    def _init_(self):\n",
        "        Polygon._init_(self, 3 ,\"TRIANGLE :\")\n",
        "\n",
        "    def triArea(self):\n",
        "        a, b, c = self.sides\n",
        "        s = (a + b + c) / 2\n",
        "        area = (s*(s-a)(s-b)(s-c)) ** 0.5\n",
        "        print(\"The area of the triangle is : %0.2f  \" % area)\n",
        "\n",
        "class Square(Polygon):\n",
        "       def _init_(self):\n",
        "        Polygon._init_(self, 2, \"SQUARE :\")\n",
        "    \n",
        "       def sqArea(self):\n",
        "        a, b = self.sides\n",
        "        area=a**2\n",
        "        print(\"The area of square is : %0.2f  \" % area)\n",
        "\n",
        "\n",
        "ob = Triangle()\n",
        "ob.inputSides()\n",
        "ob.triArea()\n",
        "ob1 = Square()\n",
        "ob1.inputSides()\n",
        "ob1.sqArea() "
      ],
      "execution_count": null,
      "outputs": []
    }
  ]
}